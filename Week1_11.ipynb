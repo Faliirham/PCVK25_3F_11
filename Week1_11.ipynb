{
  "nbformat": 4,
  "nbformat_minor": 0,
  "metadata": {
    "colab": {
      "provenance": [],
      "authorship_tag": "ABX9TyPGEAgN3QWIFn/dYT6T2Hsl",
      "include_colab_link": true
    },
    "kernelspec": {
      "name": "python3",
      "display_name": "Python 3"
    },
    "language_info": {
      "name": "python"
    }
  },
  "cells": [
    {
      "cell_type": "markdown",
      "metadata": {
        "id": "view-in-github",
        "colab_type": "text"
      },
      "source": [
        "<a href=\"https://colab.research.google.com/github/Faliirham/PCVK25_3F_11/blob/main/Week1_11.ipynb\" target=\"_parent\"><img src=\"https://colab.research.google.com/assets/colab-badge.svg\" alt=\"Open In Colab\"/></a>"
      ]
    },
    {
      "cell_type": "code",
      "execution_count": null,
      "metadata": {
        "id": "dCKub5KjfgXz",
        "colab": {
          "base_uri": "https://localhost:8080/"
        },
        "outputId": "46f7bab8-4885-4d31-e1d1-d4648b738a63"
      },
      "outputs": [
        {
          "output_type": "stream",
          "name": "stdout",
          "text": [
            "Cloning into 'main'...\n",
            "fatal: repository 'https://github.com/Faliirham/PCVK25_3F_11/tree/main/' not found\n"
          ]
        }
      ],
      "source": [
        "!git clone https://github.com/Faliirham/PCVK25_3F_11/tree/main"
      ]
    }
  ]
}